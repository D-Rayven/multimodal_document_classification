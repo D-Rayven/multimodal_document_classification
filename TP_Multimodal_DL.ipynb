{
 "cells": [
  {
   "cell_type": "markdown",
   "metadata": {
    "id": "6nYl1xE2GUxE"
   },
   "source": [
    "# **Multimodal Document Image Classification**\n",
    "# The models will be configured/trained using Tensorflow/Keras\n",
    "\n",
    "## **I- Visual Modality**\n",
    "\n",
    "In this part, we will train a visual model pretrained on ImageNet dataset (which is a large-scale dataset consisting of 1M images of 1000 classes). The aim of this first part is to extract the visual features of document images to perform document image classification on the Tobacco-3482 dataset."
   ]
  },
  {
   "cell_type": "markdown",
   "metadata": {
    "id": "oRcvp461OY__"
   },
   "source": [
    "### A - Load Tobacco-3482 Dataset"
   ]
  },
  {
   "cell_type": "markdown",
   "metadata": {
    "id": "LAiriUNIOVo9"
   },
   "source": [
    "The Tobacco-3482 dataset is a document dataset which consists of 10 classes, and 3482 images will be found in Moodle."
   ]
  },
  {
   "cell_type": "markdown",
   "metadata": {
    "id": "U-76ZaZzlW1r"
   },
   "source": [
    "## **B - Import packages**"
   ]
  },
  {
   "cell_type": "code",
   "execution_count": 5,
   "metadata": {},
   "outputs": [
    {
     "name": "stdout",
     "output_type": "stream",
     "text": [
      "Requirement already satisfied: opencv-python in /home/tpuser/.local/lib/python3.8/site-packages (4.6.0.66)\n",
      "Requirement already satisfied: numpy>=1.17.3; python_version >= \"3.8\" in /home/tpuser/.local/lib/python3.8/site-packages (from opencv-python) (1.23.3)\n",
      "Requirement already satisfied: pandas in /home/tpuser/.local/lib/python3.8/site-packages (1.5.0)\n",
      "Requirement already satisfied: numpy>=1.20.3; python_version < \"3.10\" in /home/tpuser/.local/lib/python3.8/site-packages (from pandas) (1.23.3)\n",
      "Requirement already satisfied: python-dateutil>=2.8.1 in /home/tpuser/.local/lib/python3.8/site-packages (from pandas) (2.8.2)\n",
      "Requirement already satisfied: pytz>=2020.1 in /home/tpuser/.local/lib/python3.8/site-packages (from pandas) (2022.4)\n",
      "Requirement already satisfied: six>=1.5 in /usr/lib/python3/dist-packages (from python-dateutil>=2.8.1->pandas) (1.14.0)\n",
      "Collecting tensorflow\n",
      "  Downloading tensorflow-2.10.0-cp38-cp38-manylinux_2_17_x86_64.manylinux2014_x86_64.whl (578.1 MB)\n",
      "\u001b[K     |████████████████████████████████| 578.1 MB 16 kB/s  eta 0:00:011    |█████▉                          | 105.0 MB 8.0 MB/s eta 0:00:59███████▏| 562.3 MB 4.5 MB/s eta 0:00:04\n",
      "\u001b[?25hRequirement already satisfied: packaging in /home/tpuser/.local/lib/python3.8/site-packages (from tensorflow) (21.3)\n",
      "Collecting grpcio<2.0,>=1.24.3\n",
      "  Downloading grpcio-1.49.1-cp38-cp38-manylinux_2_17_x86_64.manylinux2014_x86_64.whl (4.7 MB)\n",
      "\u001b[K     |████████████████████████████████| 4.7 MB 8.8 MB/s eta 0:00:01\n",
      "\u001b[?25hRequirement already satisfied: setuptools in /usr/lib/python3/dist-packages (from tensorflow) (45.2.0)\n",
      "Requirement already satisfied: six>=1.12.0 in /usr/lib/python3/dist-packages (from tensorflow) (1.14.0)\n",
      "Collecting gast<=0.4.0,>=0.2.1\n",
      "  Downloading gast-0.4.0-py3-none-any.whl (9.8 kB)\n",
      "Collecting tensorflow-estimator<2.11,>=2.10.0\n",
      "  Downloading tensorflow_estimator-2.10.0-py2.py3-none-any.whl (438 kB)\n",
      "\u001b[K     |████████████████████████████████| 438 kB 7.1 MB/s eta 0:00:01\n",
      "\u001b[?25hRequirement already satisfied: numpy>=1.20 in /home/tpuser/.local/lib/python3.8/site-packages (from tensorflow) (1.23.3)\n",
      "Collecting keras<2.11,>=2.10.0\n",
      "  Downloading keras-2.10.0-py2.py3-none-any.whl (1.7 MB)\n",
      "\u001b[K     |████████████████████████████████| 1.7 MB 6.9 MB/s eta 0:00:01\n",
      "\u001b[?25hCollecting astunparse>=1.6.0\n",
      "  Downloading astunparse-1.6.3-py2.py3-none-any.whl (12 kB)\n",
      "Collecting protobuf<3.20,>=3.9.2\n",
      "  Downloading protobuf-3.19.6-cp38-cp38-manylinux_2_17_x86_64.manylinux2014_x86_64.whl (1.1 MB)\n",
      "\u001b[K     |████████████████████████████████| 1.1 MB 13.0 MB/s eta 0:00:01\n",
      "\u001b[?25hCollecting absl-py>=1.0.0\n",
      "  Downloading absl_py-1.2.0-py3-none-any.whl (123 kB)\n",
      "\u001b[K     |████████████████████████████████| 123 kB 5.3 MB/s eta 0:00:01\n",
      "\u001b[?25hCollecting termcolor>=1.1.0\n",
      "  Downloading termcolor-2.0.1-py3-none-any.whl (5.4 kB)\n",
      "Collecting opt-einsum>=2.3.2\n",
      "  Downloading opt_einsum-3.3.0-py3-none-any.whl (65 kB)\n",
      "\u001b[K     |████████████████████████████████| 65 kB 4.8 MB/s  eta 0:00:01\n",
      "\u001b[?25hCollecting h5py>=2.9.0\n",
      "  Downloading h5py-3.7.0-cp38-cp38-manylinux_2_12_x86_64.manylinux2010_x86_64.whl (4.5 MB)\n",
      "\u001b[K     |████████████████████████████████| 4.5 MB 11.5 MB/s eta 0:00:01\n",
      "\u001b[?25hCollecting typing-extensions>=3.6.6\n",
      "  Downloading typing_extensions-4.4.0-py3-none-any.whl (26 kB)\n",
      "Collecting keras-preprocessing>=1.1.1\n",
      "  Downloading Keras_Preprocessing-1.1.2-py2.py3-none-any.whl (42 kB)\n",
      "\u001b[K     |████████████████████████████████| 42 kB 927 kB/s  eta 0:00:01\n",
      "\u001b[?25hCollecting wrapt>=1.11.0\n",
      "  Downloading wrapt-1.14.1-cp38-cp38-manylinux_2_5_x86_64.manylinux1_x86_64.manylinux_2_17_x86_64.manylinux2014_x86_64.whl (81 kB)\n",
      "\u001b[K     |████████████████████████████████| 81 kB 2.4 MB/s eta 0:00:011\n",
      "\u001b[?25hCollecting google-pasta>=0.1.1\n",
      "  Downloading google_pasta-0.2.0-py3-none-any.whl (57 kB)\n",
      "\u001b[K     |████████████████████████████████| 57 kB 1.5 MB/s eta 0:00:01\n",
      "\u001b[?25hCollecting tensorflow-io-gcs-filesystem>=0.23.1\n",
      "  Downloading tensorflow_io_gcs_filesystem-0.27.0-cp38-cp38-manylinux_2_12_x86_64.manylinux2010_x86_64.whl (2.4 MB)\n",
      "\u001b[K     |████████████████████████████████| 2.4 MB 10.7 MB/s eta 0:00:01\n",
      "\u001b[?25hCollecting tensorboard<2.11,>=2.10\n",
      "  Downloading tensorboard-2.10.1-py3-none-any.whl (5.9 MB)\n",
      "\u001b[K     |████████████████████████████████| 5.9 MB 8.9 MB/s eta 0:00:01\n",
      "\u001b[?25hCollecting libclang>=13.0.0\n",
      "  Downloading libclang-14.0.6-py2.py3-none-manylinux2010_x86_64.whl (14.1 MB)\n",
      "\u001b[K     |████████████████████████████████| 14.1 MB 4.9 MB/s eta 0:00:01\n",
      "\u001b[?25hCollecting flatbuffers>=2.0\n",
      "  Downloading flatbuffers-22.9.24-py2.py3-none-any.whl (26 kB)\n",
      "Requirement already satisfied: pyparsing!=3.0.5,>=2.0.2 in /home/tpuser/.local/lib/python3.8/site-packages (from packaging->tensorflow) (3.0.9)\n",
      "Requirement already satisfied: wheel<1.0,>=0.23.0 in /usr/lib/python3/dist-packages (from astunparse>=1.6.0->tensorflow) (0.34.2)\n",
      "Collecting markdown>=2.6.8\n",
      "  Downloading Markdown-3.4.1-py3-none-any.whl (93 kB)\n",
      "\u001b[K     |████████████████████████████████| 93 kB 3.0 MB/s eta 0:00:011\n",
      "\u001b[?25hCollecting google-auth-oauthlib<0.5,>=0.4.1\n",
      "  Downloading google_auth_oauthlib-0.4.6-py2.py3-none-any.whl (18 kB)\n",
      "Requirement already satisfied: requests<3,>=2.21.0 in /usr/lib/python3/dist-packages (from tensorboard<2.11,>=2.10->tensorflow) (2.22.0)\n",
      "Collecting werkzeug>=1.0.1\n",
      "  Downloading Werkzeug-2.2.2-py3-none-any.whl (232 kB)\n",
      "\u001b[K     |████████████████████████████████| 232 kB 6.9 MB/s eta 0:00:01\n",
      "\u001b[?25hCollecting tensorboard-data-server<0.7.0,>=0.6.0\n",
      "  Downloading tensorboard_data_server-0.6.1-py3-none-manylinux2010_x86_64.whl (4.9 MB)\n",
      "\u001b[K     |████████████████████████████████| 4.9 MB 7.6 MB/s eta 0:00:01\n",
      "\u001b[?25hCollecting google-auth<3,>=1.6.3\n",
      "  Downloading google_auth-2.12.0-py2.py3-none-any.whl (169 kB)\n",
      "\u001b[K     |████████████████████████████████| 169 kB 9.8 MB/s eta 0:00:01\n",
      "\u001b[?25hCollecting tensorboard-plugin-wit>=1.6.0\n",
      "  Downloading tensorboard_plugin_wit-1.8.1-py3-none-any.whl (781 kB)\n",
      "\u001b[K     |████████████████████████████████| 781 kB 9.2 MB/s eta 0:00:01\n",
      "\u001b[?25hRequirement already satisfied: importlib-metadata>=4.4; python_version < \"3.10\" in /home/tpuser/.local/lib/python3.8/site-packages (from markdown>=2.6.8->tensorboard<2.11,>=2.10->tensorflow) (5.0.0)\n",
      "Collecting requests-oauthlib>=0.7.0\n",
      "  Downloading requests_oauthlib-1.3.1-py2.py3-none-any.whl (23 kB)\n",
      "Requirement already satisfied: MarkupSafe>=2.1.1 in /home/tpuser/.local/lib/python3.8/site-packages (from werkzeug>=1.0.1->tensorboard<2.11,>=2.10->tensorflow) (2.1.1)\n",
      "Collecting pyasn1-modules>=0.2.1\n",
      "  Downloading pyasn1_modules-0.2.8-py2.py3-none-any.whl (155 kB)\n",
      "\u001b[K     |████████████████████████████████| 155 kB 10.7 MB/s eta 0:00:01\n",
      "\u001b[?25hCollecting cachetools<6.0,>=2.0.0\n",
      "  Downloading cachetools-5.2.0-py3-none-any.whl (9.3 kB)\n",
      "Collecting rsa<5,>=3.1.4; python_version >= \"3.6\"\n",
      "  Downloading rsa-4.9-py3-none-any.whl (34 kB)\n",
      "Requirement already satisfied: zipp>=0.5 in /home/tpuser/.local/lib/python3.8/site-packages (from importlib-metadata>=4.4; python_version < \"3.10\"->markdown>=2.6.8->tensorboard<2.11,>=2.10->tensorflow) (3.8.1)\n",
      "Requirement already satisfied: oauthlib>=3.0.0 in /usr/lib/python3/dist-packages (from requests-oauthlib>=0.7.0->google-auth-oauthlib<0.5,>=0.4.1->tensorboard<2.11,>=2.10->tensorflow) (3.1.0)\n",
      "Collecting pyasn1<0.5.0,>=0.4.6\n",
      "  Downloading pyasn1-0.4.8-py2.py3-none-any.whl (77 kB)\n",
      "\u001b[K     |████████████████████████████████| 77 kB 6.4 MB/s  eta 0:00:01\n",
      "\u001b[?25hInstalling collected packages: grpcio, gast, tensorflow-estimator, keras, astunparse, protobuf, absl-py, termcolor, opt-einsum, h5py, typing-extensions, keras-preprocessing, wrapt, google-pasta, tensorflow-io-gcs-filesystem, markdown, requests-oauthlib, pyasn1, pyasn1-modules, cachetools, rsa, google-auth, google-auth-oauthlib, werkzeug, tensorboard-data-server, tensorboard-plugin-wit, tensorboard, libclang, flatbuffers, tensorflow\n",
      "Successfully installed absl-py-1.2.0 astunparse-1.6.3 cachetools-5.2.0 flatbuffers-22.9.24 gast-0.4.0 google-auth-2.12.0 google-auth-oauthlib-0.4.6 google-pasta-0.2.0 grpcio-1.49.1 h5py-3.7.0 keras-2.10.0 keras-preprocessing-1.1.2 libclang-14.0.6 markdown-3.4.1 opt-einsum-3.3.0 protobuf-3.19.6 pyasn1-0.4.8 pyasn1-modules-0.2.8 requests-oauthlib-1.3.1 rsa-4.9 tensorboard-2.10.1 tensorboard-data-server-0.6.1 tensorboard-plugin-wit-1.8.1 tensorflow-2.10.0 tensorflow-estimator-2.10.0 tensorflow-io-gcs-filesystem-0.27.0 termcolor-2.0.1 typing-extensions-4.4.0 werkzeug-2.2.2 wrapt-1.14.1\n"
     ]
    }
   ],
   "source": [
    "!pip install opencv-python\n",
    "!pip install pandas\n",
    "!pip install tensorflow"
   ]
  },
  {
   "cell_type": "code",
   "execution_count": 6,
   "metadata": {
    "id": "Rm6Oxn8GUwZZ"
   },
   "outputs": [
    {
     "name": "stderr",
     "output_type": "stream",
     "text": [
      "2022-10-07 14:34:44.035501: I tensorflow/core/platform/cpu_feature_guard.cc:193] This TensorFlow binary is optimized with oneAPI Deep Neural Network Library (oneDNN) to use the following CPU instructions in performance-critical operations:  AVX2 FMA\n",
      "To enable them in other operations, rebuild TensorFlow with the appropriate compiler flags.\n",
      "2022-10-07 14:34:44.165608: W tensorflow/stream_executor/platform/default/dso_loader.cc:64] Could not load dynamic library 'libcudart.so.11.0'; dlerror: libcudart.so.11.0: cannot open shared object file: No such file or directory; LD_LIBRARY_PATH: /home/tpuser/.local/lib/python3.8/site-packages/cv2/../../lib64:\n",
      "2022-10-07 14:34:44.165622: I tensorflow/stream_executor/cuda/cudart_stub.cc:29] Ignore above cudart dlerror if you do not have a GPU set up on your machine.\n",
      "2022-10-07 14:34:44.189583: E tensorflow/stream_executor/cuda/cuda_blas.cc:2981] Unable to register cuBLAS factory: Attempting to register factory for plugin cuBLAS when one has already been registered\n",
      "2022-10-07 14:34:44.737003: W tensorflow/stream_executor/platform/default/dso_loader.cc:64] Could not load dynamic library 'libnvinfer.so.7'; dlerror: libnvinfer.so.7: cannot open shared object file: No such file or directory; LD_LIBRARY_PATH: /home/tpuser/.local/lib/python3.8/site-packages/cv2/../../lib64:\n",
      "2022-10-07 14:34:44.737068: W tensorflow/stream_executor/platform/default/dso_loader.cc:64] Could not load dynamic library 'libnvinfer_plugin.so.7'; dlerror: libnvinfer_plugin.so.7: cannot open shared object file: No such file or directory; LD_LIBRARY_PATH: /home/tpuser/.local/lib/python3.8/site-packages/cv2/../../lib64:\n",
      "2022-10-07 14:34:44.737076: W tensorflow/compiler/tf2tensorrt/utils/py_utils.cc:38] TF-TRT Warning: Cannot dlopen some TensorRT libraries. If you would like to use Nvidia GPU with TensorRT, please make sure the missing libraries mentioned above are installed properly.\n"
     ]
    }
   ],
   "source": [
    "from __future__ import absolute_import\n",
    "from __future__ import division\n",
    "from __future__ import print_function\n",
    "\n",
    "import time\n",
    "import os\n",
    "import cv2\n",
    "import numpy as np\n",
    "import pandas as pd\n",
    "import matplotlib.image as mpimg\n",
    "import matplotlib.pyplot as plt\n",
    "\n",
    "\n",
    "import tensorflow as tf\n",
    "from tensorflow.keras import layers\n",
    "from tensorflow.keras.callbacks import TensorBoard, EarlyStopping, CSVLogger, ModelCheckpoint, ReduceLROnPlateau\n",
    "from tensorflow.keras.utils import to_categorical\n",
    "from tensorflow.keras.optimizers import SGD, Adam\n",
    "from sklearn.preprocessing import LabelBinarizer\n",
    "from sklearn.model_selection import train_test_split\n",
    "from sklearn.utils import shuffle"
   ]
  },
  {
   "cell_type": "markdown",
   "metadata": {
    "id": "7VnsEHefL6qR"
   },
   "source": [
    "# **C - Configure GPUs and Enable Distributed Strategy**"
   ]
  },
  {
   "cell_type": "code",
   "execution_count": 7,
   "metadata": {
    "id": "GF2DrtHc0K4D"
   },
   "outputs": [
    {
     "name": "stdout",
     "output_type": "stream",
     "text": [
      "Num GPUs Available:  0\n"
     ]
    },
    {
     "name": "stderr",
     "output_type": "stream",
     "text": [
      "2022-10-07 14:35:34.098083: W tensorflow/stream_executor/platform/default/dso_loader.cc:64] Could not load dynamic library 'libcuda.so.1'; dlerror: libcuda.so.1: cannot open shared object file: No such file or directory; LD_LIBRARY_PATH: /home/tpuser/.local/lib/python3.8/site-packages/cv2/../../lib64:\n",
      "2022-10-07 14:35:34.098138: W tensorflow/stream_executor/cuda/cuda_driver.cc:263] failed call to cuInit: UNKNOWN ERROR (303)\n",
      "2022-10-07 14:35:34.098161: I tensorflow/stream_executor/cuda/cuda_diagnostics.cc:156] kernel driver does not appear to be running on this host (naja03): /proc/driver/nvidia/version does not exist\n"
     ]
    }
   ],
   "source": [
    "# Memory growth must be set before GPUs have been initialized (if there are ones)\n",
    "import tensorflow as tf\n",
    "print(\"Num GPUs Available: \", len(tf.config.list_physical_devices('GPU')))"
   ]
  },
  {
   "cell_type": "markdown",
   "metadata": {
    "id": "erC16b1aMvy3"
   },
   "source": [
    "Enable GPU Memory Growth to not consume the whole memory while loading the model"
   ]
  },
  {
   "cell_type": "code",
   "execution_count": null,
   "metadata": {
    "id": "r8E_zmFa0Trb"
   },
   "outputs": [],
   "source": [
    "#Configure CPU/GPU Distributed Training Strategy\n"
   ]
  },
  {
   "cell_type": "markdown",
   "metadata": {
    "id": "97UPeKkQ0Zqo"
   },
   "source": [
    "Parameters to consider while building your visual *model*"
   ]
  },
  {
   "cell_type": "code",
   "execution_count": null,
   "metadata": {
    "id": "e3hyhLZA6Sqt"
   },
   "outputs": [],
   "source": [
    "image_path = \"/content/tobacco/Image/\"\n",
    "text_path = \"/content/tobacco/Text/\"\n",
    "batch_size = 16\n",
    "output_classes = 10\n",
    "image_size = (224, 224)\n",
    "channels = 3\n",
    "dropout_rate = 0.1\n",
    "project_dim = 128\n",
    "EPOCHS = 10\n",
    "buffer_size = 3482"
   ]
  },
  {
   "cell_type": "markdown",
   "metadata": {
    "id": "Ca-zxUaFOAG-"
   },
   "source": [
    "# **G - Preprocess Inputs**"
   ]
  },
  {
   "cell_type": "markdown",
   "metadata": {},
   "source": [
    "\n",
    "\n",
    "1.   Create a function that processes the images as below\n",
    "    *   Read image\n",
    "    *   Resize image to image_size parameter\n",
    "    *   Normalize image so that our input is in the range of [0, 1]\n",
    "2.   Create a function that returns the class of the image given its path \n",
    "3.   Create a function that returns two lists: a list of image paths, and a list of labels (classes)\n",
    "4.   Create a function that:\n",
    "    *   shuffles data, with seed equal to the number of samples\n",
    "    *   converts target classes to categorical ones\n",
    "    *   Splits data to #Train, #Valid, and #Test sets, with ratios of 0.8, 0.1, 0.1\n",
    "\n",
    "\n",
    "\n"
   ]
  },
  {
   "cell_type": "code",
   "execution_count": 16,
   "metadata": {},
   "outputs": [
    {
     "name": "stdout",
     "output_type": "stream",
     "text": [
      "['CLD_CONTINUED', 'CLD_DUMPED', 'CLD_EXITED', 'CLD_TRAPPED', 'DirEntry', 'EX_CANTCREAT', 'EX_CONFIG', 'EX_DATAERR', 'EX_IOERR', 'EX_NOHOST', 'EX_NOINPUT', 'EX_NOPERM', 'EX_NOUSER', 'EX_OK', 'EX_OSERR', 'EX_OSFILE', 'EX_PROTOCOL', 'EX_SOFTWARE', 'EX_TEMPFAIL', 'EX_UNAVAILABLE', 'EX_USAGE', 'F_LOCK', 'F_OK', 'F_TEST', 'F_TLOCK', 'F_ULOCK', 'GRND_NONBLOCK', 'GRND_RANDOM', 'MFD_ALLOW_SEALING', 'MFD_CLOEXEC', 'MFD_HUGETLB', 'MFD_HUGE_16GB', 'MFD_HUGE_16MB', 'MFD_HUGE_1GB', 'MFD_HUGE_1MB', 'MFD_HUGE_256MB', 'MFD_HUGE_2GB', 'MFD_HUGE_2MB', 'MFD_HUGE_32MB', 'MFD_HUGE_512KB', 'MFD_HUGE_512MB', 'MFD_HUGE_64KB', 'MFD_HUGE_8MB', 'MFD_HUGE_MASK', 'MFD_HUGE_SHIFT', 'MutableMapping', 'NGROUPS_MAX', 'O_ACCMODE', 'O_APPEND', 'O_ASYNC', 'O_CLOEXEC', 'O_CREAT', 'O_DIRECT', 'O_DIRECTORY', 'O_DSYNC', 'O_EXCL', 'O_LARGEFILE', 'O_NDELAY', 'O_NOATIME', 'O_NOCTTY', 'O_NOFOLLOW', 'O_NONBLOCK', 'O_PATH', 'O_RDONLY', 'O_RDWR', 'O_RSYNC', 'O_SYNC', 'O_TMPFILE', 'O_TRUNC', 'O_WRONLY', 'POSIX_FADV_DONTNEED', 'POSIX_FADV_NOREUSE', 'POSIX_FADV_NORMAL', 'POSIX_FADV_RANDOM', 'POSIX_FADV_SEQUENTIAL', 'POSIX_FADV_WILLNEED', 'POSIX_SPAWN_CLOSE', 'POSIX_SPAWN_DUP2', 'POSIX_SPAWN_OPEN', 'PRIO_PGRP', 'PRIO_PROCESS', 'PRIO_USER', 'P_ALL', 'P_NOWAIT', 'P_NOWAITO', 'P_PGID', 'P_PID', 'P_WAIT', 'PathLike', 'RTLD_DEEPBIND', 'RTLD_GLOBAL', 'RTLD_LAZY', 'RTLD_LOCAL', 'RTLD_NODELETE', 'RTLD_NOLOAD', 'RTLD_NOW', 'RWF_DSYNC', 'RWF_HIPRI', 'RWF_NOWAIT', 'RWF_SYNC', 'R_OK', 'SCHED_BATCH', 'SCHED_FIFO', 'SCHED_IDLE', 'SCHED_OTHER', 'SCHED_RESET_ON_FORK', 'SCHED_RR', 'SEEK_CUR', 'SEEK_DATA', 'SEEK_END', 'SEEK_HOLE', 'SEEK_SET', 'ST_APPEND', 'ST_MANDLOCK', 'ST_NOATIME', 'ST_NODEV', 'ST_NODIRATIME', 'ST_NOEXEC', 'ST_NOSUID', 'ST_RDONLY', 'ST_RELATIME', 'ST_SYNCHRONOUS', 'ST_WRITE', 'TMP_MAX', 'WCONTINUED', 'WCOREDUMP', 'WEXITED', 'WEXITSTATUS', 'WIFCONTINUED', 'WIFEXITED', 'WIFSIGNALED', 'WIFSTOPPED', 'WNOHANG', 'WNOWAIT', 'WSTOPPED', 'WSTOPSIG', 'WTERMSIG', 'WUNTRACED', 'W_OK', 'XATTR_CREATE', 'XATTR_REPLACE', 'XATTR_SIZE_MAX', 'X_OK', '_Environ', '__all__', '__builtins__', '__cached__', '__doc__', '__file__', '__loader__', '__name__', '__package__', '__spec__', '_check_methods', '_execvpe', '_exists', '_exit', '_fspath', '_fwalk', '_get_exports_list', '_putenv', '_spawnvef', '_unsetenv', '_wrap_close', 'abc', 'abort', 'access', 'altsep', 'chdir', 'chmod', 'chown', 'chroot', 'close', 'closerange', 'confstr', 'confstr_names', 'copy_file_range', 'cpu_count', 'ctermid', 'curdir', 'defpath', 'device_encoding', 'devnull', 'dup', 'dup2', 'environ', 'environb', 'error', 'execl', 'execle', 'execlp', 'execlpe', 'execv', 'execve', 'execvp', 'execvpe', 'extsep', 'fchdir', 'fchmod', 'fchown', 'fdatasync', 'fdopen', 'fork', 'forkpty', 'fpathconf', 'fsdecode', 'fsencode', 'fspath', 'fstat', 'fstatvfs', 'fsync', 'ftruncate', 'fwalk', 'get_blocking', 'get_exec_path', 'get_inheritable', 'get_terminal_size', 'getcwd', 'getcwdb', 'getegid', 'getenv', 'getenvb', 'geteuid', 'getgid', 'getgrouplist', 'getgroups', 'getloadavg', 'getlogin', 'getpgid', 'getpgrp', 'getpid', 'getppid', 'getpriority', 'getrandom', 'getresgid', 'getresuid', 'getsid', 'getuid', 'getxattr', 'initgroups', 'isatty', 'kill', 'killpg', 'lchown', 'linesep', 'link', 'listdir', 'listxattr', 'lockf', 'lseek', 'lstat', 'major', 'makedev', 'makedirs', 'memfd_create', 'minor', 'mkdir', 'mkfifo', 'mknod', 'name', 'nice', 'open', 'openpty', 'pardir', 'path', 'pathconf', 'pathconf_names', 'pathsep', 'pipe', 'pipe2', 'popen', 'posix_fadvise', 'posix_fallocate', 'posix_spawn', 'posix_spawnp', 'pread', 'preadv', 'putenv', 'pwrite', 'pwritev', 'read', 'readlink', 'readv', 'register_at_fork', 'remove', 'removedirs', 'removexattr', 'rename', 'renames', 'replace', 'rmdir', 'scandir', 'sched_get_priority_max', 'sched_get_priority_min', 'sched_getaffinity', 'sched_getparam', 'sched_getscheduler', 'sched_param', 'sched_rr_get_interval', 'sched_setaffinity', 'sched_setparam', 'sched_setscheduler', 'sched_yield', 'sendfile', 'sep', 'set_blocking', 'set_inheritable', 'setegid', 'seteuid', 'setgid', 'setgroups', 'setpgid', 'setpgrp', 'setpriority', 'setregid', 'setresgid', 'setresuid', 'setreuid', 'setsid', 'setuid', 'setxattr', 'spawnl', 'spawnle', 'spawnlp', 'spawnlpe', 'spawnv', 'spawnve', 'spawnvp', 'spawnvpe', 'st', 'stat', 'stat_result', 'statvfs', 'statvfs_result', 'strerror', 'supports_bytes_environ', 'supports_dir_fd', 'supports_effective_ids', 'supports_fd', 'supports_follow_symlinks', 'symlink', 'sync', 'sys', 'sysconf', 'sysconf_names', 'system', 'tcgetpgrp', 'tcsetpgrp', 'terminal_size', 'times', 'times_result', 'truncate', 'ttyname', 'umask', 'uname', 'uname_result', 'unlink', 'unsetenv', 'urandom', 'utime', 'wait', 'wait3', 'wait4', 'waitid', 'waitid_result', 'waitpid', 'walk', 'write', 'writev']\n"
     ]
    }
   ],
   "source": [
    "print(dir(os))"
   ]
  },
  {
   "cell_type": "code",
   "execution_count": 15,
   "metadata": {},
   "outputs": [
    {
     "data": {
      "text/plain": [
       "(['/content/tobacco/Image/Scientific/image1.jpg',\n",
       "  '/content/tobacco/Image/ADVE/image2.jpg'],\n",
       " ['Scientific', 'ADVE'])"
      ]
     },
     "execution_count": 15,
     "metadata": {},
     "output_type": "execute_result"
    }
   ],
   "source": [
    "def getClass(image):\n",
    "    return image.split(\"/\")[4]\n",
    "\n",
    "def prepare_image_data(data_path):\n",
    "    images = []\n",
    "    labels = []\n",
    "\n",
    "    os.d\n",
    "\n",
    "data_path = ['/content/tobacco/Image/Scientific/image1.jpg', '/content/tobacco/Image/ADVE/image2.jpg']\n",
    "prepare_image_data(data_path=data_path)"
   ]
  },
  {
   "cell_type": "code",
   "execution_count": null,
   "metadata": {
    "id": "UlyLt3N86eFA"
   },
   "outputs": [],
   "source": [
    "def Preprocess_Image(image):\n",
    "    # Read image using opencv\n",
    "    img = cv2.imread(image, cv2.IMREAD_COLOR)\n",
    "    #Resize image using tf.image functions\n",
    "    img_resized = tf.image.resize(img, image_size)  \n",
    "    #Normalize image in the range of [0, 1]\n",
    "    img_resized = tf.cast(img_resized, \"float32\") / 255\n",
    "\n",
    "    return img_resized\n",
    "\n",
    "def getClass(image):\n",
    "    return image.split(\"/\")[4] # Return image class based on list entry (path) (e.g, input=\"/content/tobacco/Image/Scientific/image.jpg\" ==> output= \"Scientific\")\n",
    "\n",
    "def prepare_image_data(data_path):\n",
    "    images, labels = []\n",
    "\n",
    "    for path in data_path:\n",
    "        images.append(path)\n",
    "        labels.append(getClass(path))\n",
    "    return images , labels #(e.g. images=['/content/tobacco/Image/Scientific/image1.jpg', /content/tobacco/Image/ADVE/image2.jpg, ...], labels=['Scientific', 'ADVE'])\n",
    "                  \n",
    "def create_image_split_dataset(data_path):\n",
    "    # Load Image Data and Labels from prepare_data function\n",
    "    images, labels = prepare_image_data(data_path)\n",
    "\n",
    "    # Shuffle images and Labels   using sklearn.shuffle   \n",
    "    \n",
    "    # Convert Categories to Binary labels using (from sklearn.preprocessing import LabelBinarizer)\n",
    " \n",
    "    # Split images into training, validation, and test \n",
    "\n",
    "    return data_train, labels_train, data_valid, labels_valid, data_test, labels_test\n",
    "\n"
   ]
  },
  {
   "cell_type": "markdown",
   "metadata": {
    "id": "oV0KoR_RkKd7"
   },
   "source": [
    "Load Train, Valid, and Test Data"
   ]
  },
  {
   "cell_type": "code",
   "execution_count": 2,
   "metadata": {
    "id": "bL1S9GpO6eMV"
   },
   "outputs": [],
   "source": [
    "# data_train, labels_train, data_valid, labels_valid, data_test, labels_test = create_image_split_dataset(image_path)"
   ]
  },
  {
   "cell_type": "markdown",
   "metadata": {
    "id": "jKLzugNN3aPI"
   },
   "source": [
    "# **Data Visualization**"
   ]
  },
  {
   "cell_type": "markdown",
   "metadata": {
    "id": "B6goF5PL3iDo"
   },
   "source": [
    "Visualize the repartition of data across the classes of Tobacco dataset: (Number of samples in each class) ==> Use Pandas library"
   ]
  },
  {
   "cell_type": "code",
   "execution_count": null,
   "metadata": {
    "id": "k3vyBooC3h5A"
   },
   "outputs": [],
   "source": [
    "#Visualize data repartition across classes"
   ]
  },
  {
   "cell_type": "markdown",
   "metadata": {
    "id": "LkshyKxc3ANJ"
   },
   "source": [
    "Visualize Some samples of the training data with matplotlib library"
   ]
  },
  {
   "cell_type": "code",
   "execution_count": null,
   "metadata": {
    "id": "gFXXZ2bV_RRu"
   },
   "outputs": [],
   "source": [
    "#Visualize some samples of data"
   ]
  },
  {
   "cell_type": "markdown",
   "metadata": {
    "id": "2PHS6n0S3si8"
   },
   "source": [
    "# **Prepare Data for Training**\n",
    "# Create a Data Loader to Load Data from Disk.\n",
    "The use of Data Generators is preferrable while dealing with huge amount of data. There are two methods that can be used to load data:\n",
    "\n",
    "*   \"tf.data.Dataset.from_tensor_slices\" for small amount of data\n",
    "*   \"tf.data.Dataset.from_generator\" for large amount of data\n"
   ]
  },
  {
   "cell_type": "markdown",
   "metadata": {
    "id": "jeyXg08RBxwW"
   },
   "source": [
    "Create a Training, Validation, and Test Data Generators to load data in batches instead of saving the entire data **in** memory. The data generator yields images and labels"
   ]
  },
  {
   "cell_type": "code",
   "execution_count": null,
   "metadata": {
    "id": "95sZytie5R5T"
   },
   "outputs": [],
   "source": [
    "#example:\n",
    "def train_batch_generator():\n",
    "    while True:\n",
    "        #Loop through images and labels\n",
    "        #use the Preprocess_Image function to read and process images\n",
    "        yield train_images, train_labels\n",
    "\n"
   ]
  },
  {
   "cell_type": "code",
   "execution_count": null,
   "metadata": {
    "id": "EvEU31H2BXz_"
   },
   "outputs": [],
   "source": [
    "#Use tf.data.Dataset.from_generator() to load data in batches from the example above (train_batch_generator will be the input to tf.data.Dataset.from_generator)\n",
    "# Batch data to be loaded in batches of batch size parameter\n",
    "\n",
    "# Disable AutoShard.\n",
    "options = tf.data.Options()\n",
    "options.experimental_distribute.auto_shard_policy = tf.data.experimental.AutoShardPolicy.OFF\n",
    "\n",
    "train_dataset = tf.data.Dataset.from_generator(...).batch(...).with_options(options)\n",
    "valid_dataset = tf.data.Dataset.from_generator(...).batch(...).with_options(options)\n",
    "test_dataset = tf.data.Dataset.from_generator(...).batch(...).with_options(options)"
   ]
  },
  {
   "cell_type": "markdown",
   "metadata": {
    "id": "t6FWkSiSqtoD"
   },
   "source": [
    "## **H - Load a Deep CNNs model to train our document image classification model (e.g. NASNetMobile)**\n",
    "\n",
    "## We will train our model using Transfer learning from pre-trained Imagenet weights\n",
    "\n",
    "Here we initialize the model with pre-trained ImageNet weights, and we fine-tune it on our own dataset."
   ]
  },
  {
   "cell_type": "code",
   "execution_count": null,
   "metadata": {
    "id": "qR39clpRXLC0"
   },
   "outputs": [],
   "source": [
    "from tensorflow.keras.applications import NASNetMobile"
   ]
  },
  {
   "cell_type": "code",
   "execution_count": null,
   "metadata": {
    "id": "hXaMAtqVdpsZ"
   },
   "outputs": [],
   "source": [
    "def visual_model():\n",
    "\n",
    "    #Initialize your model with a Input layer\n",
    "\n",
    "    #Load Nasnet_Mobile Model with imagenet weights and set include_top to False and set the number of classes\n",
    "\n",
    "    #Add a Globalaveragepooling2D layer\n",
    "\n",
    "    #Add a dropout layer with dropout rate equal to 0.1\n",
    "\n",
    "    #Add a dense layer with 128 units (project_dim parameter), and set \"relu\" as the activation function \n",
    "\n",
    "    #Add a dropout layer with dropout rate equal to 0.1\n",
    "\n",
    "    #Add a Dense layer with 10 units (each unit corresponds to a class), and an activation function=\"softmax\" to perform classification\n",
    "\n",
    "    #Define your functional with: tf.keras.Model()\n",
    "    model = tf.keras.Model(inputs = , outputs = )\n",
    "    return model"
   ]
  },
  {
   "cell_type": "code",
   "execution_count": null,
   "metadata": {
    "id": "SgVCtOJMXLFS"
   },
   "outputs": [],
   "source": [
    "# Open a strategy scope.\n",
    "with strategy.scope():\n",
    "    # Everything that creates variables should be under the strategy scope.\n",
    "    # In general this is only model construction & `compile()`.\n",
    "\n",
    "    #Load Model\n",
    "    model = visual_model()\n",
    "\n",
    "    # Freeze the pretrained weights from NasNet model, we won't train the whole model. \n",
    "    # We want to train and update the weights of only the added last layers\n",
    "\n",
    "    #compile your model using :\n",
    "      #Stochastic gradient Descent (SGD) as optimizer (set the learning rate to 1e-3, and momentum=0.9)\n",
    "      #Use an appropriate loss function\n",
    "      #Use an appropriate metric\n",
    "    freezed_model.compile(optimizer = , \n",
    "                  loss = , \n",
    "                  metrics = ,\n",
    "    )\n",
    "#model summary\n",
    "freezed_model.summary()"
   ]
  },
  {
   "cell_type": "markdown",
   "metadata": {
    "id": "eZDYpg6ue8V5"
   },
   "source": [
    "# ***I - Training***\n"
   ]
  },
  {
   "cell_type": "markdown",
   "metadata": {
    "id": "MbAl5deefJaZ"
   },
   "source": [
    "Note: the accuracy will increase very slowly and may overfit."
   ]
  },
  {
   "cell_type": "markdown",
   "metadata": {
    "id": "lV3cd-X6D2Du"
   },
   "source": [
    "Use model.fit to train your model. Define all the parameters."
   ]
  },
  {
   "cell_type": "code",
   "execution_count": null,
   "metadata": {
    "id": "J6GWMUYlXLIR"
   },
   "outputs": [],
   "source": [
    "# Train the model on all available devices.\n",
    "t0=time.time()\n",
    "\n",
    "freezed_history = freezed_model.fit()\n",
    "\n",
    "print('')\n",
    "print('total computing time: '+str(time.time()-t0))"
   ]
  },
  {
   "cell_type": "markdown",
   "metadata": {
    "id": "H8280Xwpg00x"
   },
   "source": [
    "Evaluate the performance of your model on the Test set"
   ]
  },
  {
   "cell_type": "markdown",
   "metadata": {
    "id": "qN14X_1iFMLq"
   },
   "source": [
    "Use model.evaluate to evaluate the performance of your model"
   ]
  },
  {
   "cell_type": "code",
   "execution_count": null,
   "metadata": {
    "id": "NYB2V-RMglvN"
   },
   "outputs": [],
   "source": [
    "# Test the model after training\n",
    "scores = freezed_model.evaluate()\n",
    "\n",
    "#print loss and test accuracies"
   ]
  },
  {
   "cell_type": "markdown",
   "metadata": {
    "id": "fGST5eCcfT6C"
   },
   "source": [
    "Plot models' history (training accuracy, validation accuracy)"
   ]
  },
  {
   "cell_type": "code",
   "execution_count": null,
   "metadata": {
    "id": "xu_Cv-mwYKKZ"
   },
   "outputs": [],
   "source": [
    "#Create a function that plots the models' training accuracy, validation accuracy, training loss, and validation loss\n",
    "\n",
    "def plot_hist(hist):\n",
    "    \n",
    "plot_hist(freezed_history)"
   ]
  },
  {
   "cell_type": "markdown",
   "metadata": {
    "id": "PN1sVsvxiR3I"
   },
   "source": [
    "Re-Train the model and update all parameters. (Unfreez the first 2 layers).\n",
    "\n",
    "*   Re-compile your second model\n",
    "*   Re-Train your second model\n",
    "*   Compare the training time between the two trained models\n",
    "*   Compare Test accuracy between the two trained models\n",
    "\n"
   ]
  },
  {
   "cell_type": "code",
   "execution_count": null,
   "metadata": {
    "id": "QB5V8hwFjLep"
   },
   "outputs": [],
   "source": [
    "# Open a strategy scope.\n",
    "with strategy.scope():\n",
    "    # Everything that creates variables should be under the strategy scope.\n",
    "    # In general this is only model construction & `compile()`.\n",
    "\n",
    "    #Load Model\n",
    "    unfreezed_model = visual_model()\n",
    "\n",
    "    # Freeze the pretrained weights from NasNet model, we won't train the whole model. \n",
    "    # We want to train and update the weights of only the added last layers\n",
    "    \n",
    "\n",
    "    #compile your model using :\n",
    "      #Stochastic gradient Descent (SGD) as optimizer (set the learning rate to 1e-3, and momentum=0.9)\n",
    "      #Use an appropriate loss function\n",
    "      #Use an appropriate metric\n",
    "    unfreezed_model.compile(optimizer = , \n",
    "                  loss = , \n",
    "                  metrics = ,\n",
    "    )\n",
    "#model summary\n",
    "unfreezed_model.summary()"
   ]
  },
  {
   "cell_type": "code",
   "execution_count": null,
   "metadata": {
    "id": "Hc6syrewiRUs"
   },
   "outputs": [],
   "source": [
    "#Re-train the model and unfreez the first two layers\n",
    "# Train the model on all available devices.\n",
    "t1=time.time()\n",
    "\n",
    "unfreezed_history = unfreezed_model.fit()\n",
    "\n",
    "print('')\n",
    "print('total computing time: '+str(time.time()-t1))"
   ]
  },
  {
   "cell_type": "code",
   "execution_count": null,
   "metadata": {
    "id": "sLSHSXfujw6M"
   },
   "outputs": [],
   "source": [
    "plot_hist(freezed_history)"
   ]
  },
  {
   "cell_type": "markdown",
   "metadata": {
    "id": "IoW1ik-Sg8ix"
   },
   "source": [
    "\\Create a directory (\"weights\") to save the weights of your trained model in the .h5 format"
   ]
  },
  {
   "cell_type": "code",
   "execution_count": null,
   "metadata": {
    "id": "tggn48omemPC"
   },
   "outputs": [],
   "source": [
    "!mkdir weights\n",
    "model.save_weights(filepath=\"/content/weights/visual_model.h5\")"
   ]
  },
  {
   "cell_type": "markdown",
   "metadata": {
    "id": "6FY3mS_6G50E"
   },
   "source": [
    "------\n",
    "------\n",
    "------"
   ]
  },
  {
   "cell_type": "markdown",
   "metadata": {
    "id": "enDuUMOiiF4z"
   },
   "source": [
    "## **II- Textual Modality**\n",
    "\n",
    "In this part, we will train a textual model. The aim of this second part is to extract the textual features of document images to perform document text classification on the Tobacco-3482 dataset."
   ]
  },
  {
   "cell_type": "markdown",
   "metadata": {
    "id": "bXhWUxZEkD46"
   },
   "source": [
    "Load Train, Valid, and Test Data"
   ]
  },
  {
   "cell_type": "code",
   "execution_count": null,
   "metadata": {
    "id": "Fy2ogxHbpb7W"
   },
   "outputs": [],
   "source": [
    "def getClass(text):\n",
    "    #return category (e.g, input=\"/content/tobacco/Text/Scientific/text.txt\" ==> output= \"Scientific\")\n",
    "    return\n",
    "\n",
    "def prepare_text_data(data_path):\n",
    "\n",
    "    return texts , labels #(e.g. images=['/content/tobacco/Text/Scientific/text1.txt', /content/tobacco/Text/ADVE/text2.jpg, ...], labels=['Scientific', 'ADVE'])\n",
    "                  \n",
    "def create_image_split_dataset(data_path):\n",
    "    # Load Text Data and Labels from prepare_text_data function\n",
    "    texts, labels = prepare_text_data(data_path)\n",
    "    # Shuffle texts and Labels using sklearn.shuffle  (use random_state parameter)  \n",
    "\n",
    "    # Convert labels to categorical (use from tensorflow.keras.utils import to_categorical) \n",
    "\n",
    "    # Split text data into training, validation, and test \n",
    "\n",
    "    return data_train, labels_train, data_valid, labels_valid, data_test, labels_test\n",
    "\n"
   ]
  },
  {
   "cell_type": "code",
   "execution_count": null,
   "metadata": {
    "id": "nv9ZzjIRiAQr"
   },
   "outputs": [],
   "source": [
    "text_data_train, text_labels_train, text_data_valid, text_labels_valid, text_data_test, text_labels_test = create_split_dataset(text_path)"
   ]
  },
  {
   "cell_type": "markdown",
   "metadata": {
    "id": "Eyv6_HNlkPRh"
   },
   "source": [
    "Import Libraries to process the text"
   ]
  },
  {
   "cell_type": "code",
   "execution_count": null,
   "metadata": {
    "id": "7wBbp3QwiAS8"
   },
   "outputs": [],
   "source": [
    "from tensorflow.keras.preprocessing import sequence\n",
    "from tensorflow.keras.preprocessing.text import Tokenizer"
   ]
  },
  {
   "cell_type": "markdown",
   "metadata": {
    "id": "FP0wt5fOkOdC"
   },
   "source": [
    "Parameters to consider while building your *model*"
   ]
  },
  {
   "cell_type": "code",
   "execution_count": null,
   "metadata": {
    "id": "l_0clD2u2dZH"
   },
   "outputs": [],
   "source": [
    "vocab_size = 20000\n",
    "buffer_size = 3482"
   ]
  },
  {
   "cell_type": "markdown",
   "metadata": {
    "id": "8b3uh90tkg4p"
   },
   "source": [
    "Create a function that do the same thing as the function (prepare_image_data()), but instead of appending to the new list the list of text file paths, we will append the text readed."
   ]
  },
  {
   "cell_type": "code",
   "execution_count": null,
   "metadata": {
    "id": "EHJ7D6ci-w9e"
   },
   "outputs": [],
   "source": [
    "def feed_text(data, label):\n",
    "    text_data = []\n",
    "    text_labels = []\n",
    "\n",
    "    # Loop over your text data and labels\n",
    "\n",
    "    # Read the text of each file (.txt)\n",
    "\n",
    "    #Append both the text readed and text labels to text_data and to text_labels lists respectively  \n",
    "\n",
    "    return data, text_labels"
   ]
  },
  {
   "cell_type": "markdown",
   "metadata": {
    "id": "sDGfvN4dqgUo"
   },
   "source": [
    "Read your Data"
   ]
  },
  {
   "cell_type": "code",
   "execution_count": null,
   "metadata": {
    "id": "O5BhrDQ5B8OS"
   },
   "outputs": [],
   "source": [
    "text_data_train, text_labels_train = feed_text(...)\n",
    "text_data_valid, text_labels_valid = feed_text(...)\n",
    "text_data_test, text_labels_test = feed_text(...)"
   ]
  },
  {
   "cell_type": "markdown",
   "metadata": {
    "id": "6PiNQnQ-qpIP"
   },
   "source": [
    "Now, instead of using a data generator with \"tf.data.Dataset.from_generator\", we will be using a data loader with \"tf.data.Dataset.from_tensor_slices\" as we won't be dealing with images but texts, and they don't consume memory.\n",
    "\n",
    "It is a good chance for you to learn the two methods to preparing and loading data.\n",
    "\n",
    "Note: Use the parameters of \"tf.data.Dataset.from_tensor_slices(...)\" (e.g. .batch(), .prefetch(), .shuffle()). Check more information in tensorflow/keras websites."
   ]
  },
  {
   "cell_type": "code",
   "execution_count": null,
   "metadata": {
    "id": "e9SkrhPd-ELr"
   },
   "outputs": [],
   "source": [
    "train_dataset = tf.data.Dataset.from_tensor_slices(...).batch(...)\n",
    "#Add parameters\n",
    "\n",
    "valid_dataset = tf.data.Dataset.from_tensor_slices(...).batch(...)\n",
    "#Add parameters\n",
    "\n",
    "test_dataset = tf.data.Dataset.from_tensor_slices(...).batch(...)\n",
    "#Add parameters\n"
   ]
  },
  {
   "cell_type": "code",
   "execution_count": null,
   "metadata": {
    "id": "fIJGVsz7tjhE"
   },
   "outputs": [],
   "source": [
    "# The raw text loaded by the function feed_text() needs to be processed before it can be used in a model. \n",
    "# The simplest way to process text for training is using the \"tf.keras.layers.TextVectorization\" laye.\n",
    "# Create the TextVectorization layer. (use the max_tokens parameter)\n",
    "encoder = tf.keras.layers.TextVectorization(...)\n",
    "\n",
    "# Use the .adapt() method to set the layer's vocabulary\n",
    "# After the padding and unknown tokens they're sorted by frequency:\n",
    "encoder.adapt(train_dataset.map(lambda text, label: text))"
   ]
  },
  {
   "cell_type": "code",
   "execution_count": null,
   "metadata": {
    "id": "5qjjnrBUuVER"
   },
   "outputs": [],
   "source": [
    "# Here are the first 20 tokens.\n",
    "vocab = np.array(encoder.get_vocabulary())\n",
    "vocab[:20]"
   ]
  },
  {
   "cell_type": "code",
   "execution_count": null,
   "metadata": {
    "id": "uc2uRNzpytVQ"
   },
   "outputs": [],
   "source": [
    "# Initially this returns a batch of the dataset of (text, label pairs):\n",
    "for example, label in train_dataset.take(1):\n",
    "    print('text: ', example.numpy())\n",
    "    print('label: ', label.numpy())"
   ]
  },
  {
   "cell_type": "markdown",
   "metadata": {
    "id": "ZQDh1_j1vIEi"
   },
   "source": [
    "Once the vocabulary is set, the layer can encode text into indices. The tensors of indices are 0-padded to the longest sequence in the batch (unless you set a fixed output_sequence_length):"
   ]
  },
  {
   "cell_type": "code",
   "execution_count": null,
   "metadata": {
    "id": "BMPRho2pvGys"
   },
   "outputs": [],
   "source": [
    "encoded_example = encoder(example)[:3].numpy()\n",
    "encoded_example"
   ]
  },
  {
   "cell_type": "markdown",
   "metadata": {
    "id": "fPboKkiczmif"
   },
   "source": [
    "Now, let's define Our RNN model to perform text classification. We have defined the Visual model usinf a Functional Model (tf.keras.Model()). For the Textual Model, we will define  Sequential Model using tf.keras.Sequential() model"
   ]
  },
  {
   "cell_type": "code",
   "execution_count": null,
   "metadata": {
    "id": "BAFvrxiiiAfl"
   },
   "outputs": [],
   "source": [
    "def textual_model():\n",
    "\n",
    "    model = tf.keras.Sequential([\n",
    "      #Add th encoder layer                           \n",
    "      encoder,\n",
    "      # Add an Embedding Layer(with input_dim == len(encoder.get_vocabulary(), and output_dim == 512 units)\n",
    "      \n",
    "      # Add a Bidirectional Layer(with layer as tf.keras.layers.LSTM layer with 512 units, activation_function=\"tanh\", and return_sequences == True))\n",
    "      \n",
    "      # Add a Bidirectional Layer(with layer as tf.keras.layers.LSTM layer with 256 units, activation_function=\"tanh\", and return_sequences == False))\n",
    "      \n",
    "      # Add a Dense Layer(with 128 units, and relu as activation function)\n",
    "      \n",
    "      # Add a Dropout Layer (with a dropout rate of 0.5)\n",
    "      \n",
    "      # Add a last dense Layer (with 10 units, which corresponds to the number of classes, and a \"softmax\" activation function)\n",
    "      ])\n",
    "    return model\n",
    "\n",
    "# Open a strategy scope.\n",
    "with strategy.scope():\n",
    "\n",
    "  #Re-define the TextVectorization Layer and the .adapt() in the strategy scope \n",
    "  encoder = ...\n",
    "  encoder.adapt(...) \n",
    "\n",
    "  print('Build model...')\n",
    "  \n",
    "  text_model = textual_model()\n",
    "  #compile your model using :\n",
    "      #Adam optimizer (set the learning rate to 1e-4)\n",
    "      #Use an appropriate loss function\n",
    "      #Use an appropriate metric\n",
    "  text_model.compile(optimizer = , \n",
    "                     loss = , \n",
    "                     metrics = ,\n",
    "    )\n",
    "\n",
    "text_model.summary()"
   ]
  },
  {
   "cell_type": "code",
   "execution_count": null,
   "metadata": {
    "id": "1CA9cdskiAhQ"
   },
   "outputs": [],
   "source": [
    "t3=time.time()\n",
    "\n",
    "# Train the model on all available devices.\n",
    "text_history = text_model.fit(...)\n",
    "\n",
    "print('')\n",
    "print('total computing time: '+str(time.time()-t3))"
   ]
  },
  {
   "cell_type": "code",
   "execution_count": null,
   "metadata": {
    "id": "xEoncIp4G3q1"
   },
   "outputs": [],
   "source": [
    "# Test the model after training\n",
    "text_scores = text_model.evaluate()\n",
    "\n",
    "#print loss and test accuracies"
   ]
  },
  {
   "cell_type": "code",
   "execution_count": null,
   "metadata": {
    "id": "NWyAxFbIG3tG"
   },
   "outputs": [],
   "source": [
    "plot_hist(text_history)"
   ]
  },
  {
   "cell_type": "code",
   "execution_count": null,
   "metadata": {
    "id": "Ss0HTi4eG3vW"
   },
   "outputs": [],
   "source": [
    "model.save_weights(filepath=\"/content/weights/textual_model.h5\")"
   ]
  },
  {
   "cell_type": "markdown",
   "metadata": {
    "id": "0486nk2FHNl1"
   },
   "source": [
    "---\n",
    "---\n",
    "---"
   ]
  },
  {
   "cell_type": "markdown",
   "metadata": {
    "id": "BgqmkOmL2aig"
   },
   "source": [
    "## **III- Fusion Modality (Multimodal Modality)**\n",
    "\n",
    "In this part, we will load our pretrained visual and textual models. The aim of this second part is to get the extracted visual and textual features across the visual and textual modalities; Then, we will use two fusion strategies (early, and late fusion), to perform multimodal document image classification "
   ]
  },
  {
   "cell_type": "markdown",
   "metadata": {
    "id": "3R4W8XDu3Cee"
   },
   "source": [
    "# ***A - Late Fusion***\n"
   ]
  },
  {
   "cell_type": "markdown",
   "metadata": {
    "id": "LGK9fDSZ3HHm"
   },
   "source": [
    "## 1. Load the Visual and Textual Models with their trained weights inside the strategy scope, and Define your final Model"
   ]
  },
  {
   "cell_type": "code",
   "execution_count": null,
   "metadata": {
    "id": "I-IZzxkhG30v"
   },
   "outputs": [],
   "source": [
    "# Open a strategy scope.\n",
    "\n",
    "#---- \n",
    "# Load Visual Model\n",
    "# Load the weights saved in the \"weights\" directory\n",
    "# Get the output(last layer) of the visual model\n",
    "\n",
    "#---- \n",
    "# Load Textual Model\n",
    "# Load the weights saved in the \"weights\" directory\n",
    "# Get the output(last layer) of the textual model\n",
    "\n",
    "#---- \n",
    "# Concatenate the outputs of the visual and textual models\n",
    "# Add a Dense layer on top of the concaenated outputs (with 20 units, and a \"relu\" activation function)\n",
    "# Add a Dense layer (wich corresponds to the last layer (with 10 units (number of classes), and a \"softmax\" activation function))\n",
    "\n",
    "#----\n",
    "# Finally, define your Functional Model (your inputs should be the image and text, and the output should be the last dense layer added to the model)\n",
    "\n",
    "#----\n",
    "# Compile your model:\n",
    "    #Take into account that now you have two inputs instead of only one (both image and text data)\n",
    "    #Use SGD optimizer, set the learning rate to 1e-3, and momentum to 0.9\n",
    "    #Use an appropriate loss function\n",
    "    #Use an appropriate metric\n"
   ]
  },
  {
   "cell_type": "markdown",
   "metadata": {
    "id": "3T-mLREI3lDO"
   },
   "source": [
    "### 2. Modify the Data Loader to take into account a list of two inputs, instead of one.\n",
    "NB !! USE a DATA GENERATOR in the format of (tf.data.Dataset.from_generator()) function"
   ]
  },
  {
   "cell_type": "code",
   "execution_count": null,
   "metadata": {
    "id": "i3gkbNBy4IVO"
   },
   "outputs": [],
   "source": [
    "#Modify Data Loader"
   ]
  },
  {
   "cell_type": "markdown",
   "metadata": {
    "id": "4nIF5hSQ7iyQ"
   },
   "source": [
    "### 2. Your Model is by now ready for Training"
   ]
  },
  {
   "cell_type": "code",
   "execution_count": null,
   "metadata": {
    "id": "CE0L9L-b7rSX"
   },
   "outputs": [],
   "source": [
    "#Train your model here"
   ]
  },
  {
   "cell_type": "markdown",
   "metadata": {
    "id": "uqdXyjfn8Bn4"
   },
   "source": [
    "### 3. Your Model is by now ready for Testing"
   ]
  },
  {
   "cell_type": "code",
   "execution_count": null,
   "metadata": {
    "id": "zQtlSnMn7yMo"
   },
   "outputs": [],
   "source": [
    "#Evaluate your model here"
   ]
  },
  {
   "cell_type": "markdown",
   "metadata": {
    "id": "_-bffoxQ8Hgh"
   },
   "source": [
    "###Compare the Test accuracies of Visual, Textual, and Fusion Modalities\n",
    "\n",
    "Is there any improvement of accuracy ?"
   ]
  },
  {
   "cell_type": "markdown",
   "metadata": {
    "id": "0mm_ETQY8TWP"
   },
   "source": [
    "# ***B - Early Fusion***\n"
   ]
  },
  {
   "cell_type": "markdown",
   "metadata": {
    "id": "Ro9aaiAb8WY4"
   },
   "source": [
    "## 1. Repeat Step A.1"
   ]
  },
  {
   "cell_type": "markdown",
   "metadata": {
    "id": "NXJovMPo9CWI"
   },
   "source": [
    "Here, we will compare between 2 early fusion methods using these layers: \"concatenate\", \"average\" "
   ]
  },
  {
   "cell_type": "code",
   "execution_count": null,
   "metadata": {
    "id": "7mMdUzLG8eZ4"
   },
   "outputs": [],
   "source": [
    "# Open a strategy scope.\n",
    "\n",
    "#---- \n",
    "# Load Visual Model\n",
    "# Load the weights saved in the \"weights\" directory\n",
    "# Get the output of the layer with 128 units of the visual model\n",
    "\n",
    "#---- \n",
    "# Load Textual Model\n",
    "# Load the weights saved in the \"weights\" directory\n",
    "# Get the output of the layer with 128 units of the textual model\n",
    "\n",
    "#---- 1st Method: \"Add\"\n",
    "# Add the outputs of the visual and textual models using the \"Add\" layer\n",
    "# Add a Dense layer on top of the added outputs (with 128 units, and a \"relu\" activation function)\n",
    "# Add a Dropout Layer (with a dropout rate of 0.5)\n",
    "# Add a Dense layer (wich corresponds to the last layer (with 10 units (number of classes), and a \"softmax\" activation function))\n",
    "\n",
    "#----\n",
    "# Finally, define your Functional Model (your inputs should be the image and text, and the output should be the last dense layer added to the model)\n",
    "\n",
    "#----\n",
    "# Compile your model:\n",
    "    #Take into account that now you have two inputs instead of only one (both image and text data)\n",
    "    #Use SGD optimizer, set the learning rate to 1e-3, and momentum to 0.9\n",
    "    #Use an appropriate loss function\n",
    "    #Use an appropriate metric\n"
   ]
  },
  {
   "cell_type": "markdown",
   "metadata": {
    "id": "FUIkrXsy9qTY"
   },
   "source": [
    "### 2. Your Model is by now ready for Training"
   ]
  },
  {
   "cell_type": "code",
   "execution_count": null,
   "metadata": {
    "id": "J2ZaGmfu9u5Q"
   },
   "outputs": [],
   "source": [
    "#Train your model here"
   ]
  },
  {
   "cell_type": "markdown",
   "metadata": {
    "id": "_CKczIp_9vdg"
   },
   "source": [
    "### 3. Your Model is by now ready for Testing"
   ]
  },
  {
   "cell_type": "code",
   "execution_count": null,
   "metadata": {
    "id": "2sPxNhwy9vT_"
   },
   "outputs": [],
   "source": [
    "#Evaluate your model here"
   ]
  },
  {
   "cell_type": "markdown",
   "metadata": {
    "id": "Tq2LhLaJ963X"
   },
   "source": [
    "###Compare the Test accuracies of Visual, Textual, and Fusion Modalities\n",
    "\n",
    "Is there any improvement of accuracy ?"
   ]
  },
  {
   "cell_type": "markdown",
   "metadata": {
    "id": "wZJtfnrH-EJo"
   },
   "source": [
    "# 4. Repeat the same exact steps. Modify only the method of fusion and see results"
   ]
  },
  {
   "cell_type": "markdown",
   "metadata": {
    "id": "xizu4dzY-OdX"
   },
   "source": [
    "# 5. Save the weights of your fusion model"
   ]
  },
  {
   "cell_type": "code",
   "execution_count": null,
   "metadata": {
    "id": "NnTlly6S96Zn"
   },
   "outputs": [],
   "source": [
    "model.save_weights(filepath=\"/content/weights/fusion_model.h5\")"
   ]
  }
 ],
 "metadata": {
  "accelerator": "GPU",
  "colab": {
   "collapsed_sections": [],
   "name": "Miltimodal Deep Learning.ipynb",
   "provenance": []
  },
  "kernelspec": {
   "display_name": "Python 3.10.4 64-bit",
   "language": "python",
   "name": "python3"
  },
  "language_info": {
   "codemirror_mode": {
    "name": "ipython",
    "version": 3
   },
   "file_extension": ".py",
   "mimetype": "text/x-python",
   "name": "python",
   "nbconvert_exporter": "python",
   "pygments_lexer": "ipython3",
   "version": "3.8.10"
  },
  "vscode": {
   "interpreter": {
    "hash": "916dbcbb3f70747c44a77c7bcd40155683ae19c65e1c03b4aa3499c5328201f1"
   }
  }
 },
 "nbformat": 4,
 "nbformat_minor": 1
}
